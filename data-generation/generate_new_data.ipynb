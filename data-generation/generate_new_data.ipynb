{
  "cells": [
    {
      "cell_type": "markdown",
      "source": [
        "## Install required libraries"
      ],
      "metadata": {
        "id": "hmSAomp6_XDa"
      }
    },
    {
      "cell_type": "code",
      "execution_count": null,
      "metadata": {
        "colab": {
          "base_uri": "https://localhost:8080/"
        },
        "id": "mJL-UawpyZ4F",
        "outputId": "69ba25a2-6094-4ee7-f2fd-fc69d585bc82"
      },
      "outputs": [
        {
          "output_type": "stream",
          "name": "stdout",
          "text": [
            "Collecting rembg\n",
            "  Downloading rembg-2.0.57-py3-none-any.whl (33 kB)\n",
            "Requirement already satisfied: jsonschema in /usr/local/lib/python3.10/dist-packages (from rembg) (4.19.2)\n",
            "Requirement already satisfied: numpy in /usr/local/lib/python3.10/dist-packages (from rembg) (1.25.2)\n",
            "Collecting onnxruntime (from rembg)\n",
            "  Downloading onnxruntime-1.18.0-cp310-cp310-manylinux_2_27_x86_64.manylinux_2_28_x86_64.whl (6.8 MB)\n",
            "\u001b[2K     \u001b[90m━━━━━━━━━━━━━━━━━━━━━━━━━━━━━━━━━━━━━━━━\u001b[0m \u001b[32m6.8/6.8 MB\u001b[0m \u001b[31m23.8 MB/s\u001b[0m eta \u001b[36m0:00:00\u001b[0m\n",
            "\u001b[?25hRequirement already satisfied: opencv-python-headless in /usr/local/lib/python3.10/dist-packages (from rembg) (4.10.0.82)\n",
            "Requirement already satisfied: pillow in /usr/local/lib/python3.10/dist-packages (from rembg) (9.4.0)\n",
            "Requirement already satisfied: pooch in /usr/local/lib/python3.10/dist-packages (from rembg) (1.8.2)\n",
            "Collecting pymatting (from rembg)\n",
            "  Downloading PyMatting-1.1.12-py3-none-any.whl (52 kB)\n",
            "\u001b[2K     \u001b[90m━━━━━━━━━━━━━━━━━━━━━━━━━━━━━━━━━━━━━━━━\u001b[0m \u001b[32m53.0/53.0 kB\u001b[0m \u001b[31m6.1 MB/s\u001b[0m eta \u001b[36m0:00:00\u001b[0m\n",
            "\u001b[?25hRequirement already satisfied: scikit-image in /usr/local/lib/python3.10/dist-packages (from rembg) (0.19.3)\n",
            "Requirement already satisfied: scipy in /usr/local/lib/python3.10/dist-packages (from rembg) (1.11.4)\n",
            "Requirement already satisfied: tqdm in /usr/local/lib/python3.10/dist-packages (from rembg) (4.66.4)\n",
            "Requirement already satisfied: attrs>=22.2.0 in /usr/local/lib/python3.10/dist-packages (from jsonschema->rembg) (23.2.0)\n",
            "Requirement already satisfied: jsonschema-specifications>=2023.03.6 in /usr/local/lib/python3.10/dist-packages (from jsonschema->rembg) (2023.12.1)\n",
            "Requirement already satisfied: referencing>=0.28.4 in /usr/local/lib/python3.10/dist-packages (from jsonschema->rembg) (0.35.1)\n",
            "Requirement already satisfied: rpds-py>=0.7.1 in /usr/local/lib/python3.10/dist-packages (from jsonschema->rembg) (0.18.1)\n",
            "Collecting coloredlogs (from onnxruntime->rembg)\n",
            "  Downloading coloredlogs-15.0.1-py2.py3-none-any.whl (46 kB)\n",
            "\u001b[2K     \u001b[90m━━━━━━━━━━━━━━━━━━━━━━━━━━━━━━━━━━━━━━━━\u001b[0m \u001b[32m46.0/46.0 kB\u001b[0m \u001b[31m5.3 MB/s\u001b[0m eta \u001b[36m0:00:00\u001b[0m\n",
            "\u001b[?25hRequirement already satisfied: flatbuffers in /usr/local/lib/python3.10/dist-packages (from onnxruntime->rembg) (24.3.25)\n",
            "Requirement already satisfied: packaging in /usr/local/lib/python3.10/dist-packages (from onnxruntime->rembg) (24.1)\n",
            "Requirement already satisfied: protobuf in /usr/local/lib/python3.10/dist-packages (from onnxruntime->rembg) (3.20.3)\n",
            "Requirement already satisfied: sympy in /usr/local/lib/python3.10/dist-packages (from onnxruntime->rembg) (1.12.1)\n",
            "Requirement already satisfied: platformdirs>=2.5.0 in /usr/local/lib/python3.10/dist-packages (from pooch->rembg) (4.2.2)\n",
            "Requirement already satisfied: requests>=2.19.0 in /usr/local/lib/python3.10/dist-packages (from pooch->rembg) (2.31.0)\n",
            "Requirement already satisfied: numba!=0.49.0 in /usr/local/lib/python3.10/dist-packages (from pymatting->rembg) (0.58.1)\n",
            "Requirement already satisfied: networkx>=2.2 in /usr/local/lib/python3.10/dist-packages (from scikit-image->rembg) (3.3)\n",
            "Requirement already satisfied: imageio>=2.4.1 in /usr/local/lib/python3.10/dist-packages (from scikit-image->rembg) (2.31.6)\n",
            "Requirement already satisfied: tifffile>=2019.7.26 in /usr/local/lib/python3.10/dist-packages (from scikit-image->rembg) (2024.5.22)\n",
            "Requirement already satisfied: PyWavelets>=1.1.1 in /usr/local/lib/python3.10/dist-packages (from scikit-image->rembg) (1.6.0)\n",
            "Requirement already satisfied: llvmlite<0.42,>=0.41.0dev0 in /usr/local/lib/python3.10/dist-packages (from numba!=0.49.0->pymatting->rembg) (0.41.1)\n",
            "Requirement already satisfied: charset-normalizer<4,>=2 in /usr/local/lib/python3.10/dist-packages (from requests>=2.19.0->pooch->rembg) (3.3.2)\n",
            "Requirement already satisfied: idna<4,>=2.5 in /usr/local/lib/python3.10/dist-packages (from requests>=2.19.0->pooch->rembg) (3.7)\n",
            "Requirement already satisfied: urllib3<3,>=1.21.1 in /usr/local/lib/python3.10/dist-packages (from requests>=2.19.0->pooch->rembg) (2.0.7)\n",
            "Requirement already satisfied: certifi>=2017.4.17 in /usr/local/lib/python3.10/dist-packages (from requests>=2.19.0->pooch->rembg) (2024.6.2)\n",
            "Collecting humanfriendly>=9.1 (from coloredlogs->onnxruntime->rembg)\n",
            "  Downloading humanfriendly-10.0-py2.py3-none-any.whl (86 kB)\n",
            "\u001b[2K     \u001b[90m━━━━━━━━━━━━━━━━━━━━━━━━━━━━━━━━━━━━━━━━\u001b[0m \u001b[32m86.8/86.8 kB\u001b[0m \u001b[31m10.4 MB/s\u001b[0m eta \u001b[36m0:00:00\u001b[0m\n",
            "\u001b[?25hRequirement already satisfied: mpmath<1.4.0,>=1.1.0 in /usr/local/lib/python3.10/dist-packages (from sympy->onnxruntime->rembg) (1.3.0)\n",
            "Installing collected packages: humanfriendly, pymatting, coloredlogs, onnxruntime, rembg\n",
            "Successfully installed coloredlogs-15.0.1 humanfriendly-10.0 onnxruntime-1.18.0 pymatting-1.1.12 rembg-2.0.57\n",
            "Requirement already satisfied: imutils in /usr/local/lib/python3.10/dist-packages (0.5.4)\n"
          ]
        }
      ],
      "source": [
        "!pip install rembg\n",
        "!pip install imutils"
      ]
    },
    {
      "cell_type": "code",
      "execution_count": null,
      "metadata": {
        "id": "AOBo8-lj6nf-"
      },
      "outputs": [],
      "source": [
        "from PIL import Image, ImageFilter\n",
        "import cv2\n",
        "import os\n",
        "import random\n",
        "import imutils\n",
        "from rembg import remove"
      ]
    },
    {
      "cell_type": "markdown",
      "source": [
        "## Generation of Synthetic Data ##"
      ],
      "metadata": {
        "id": "4qMvby5U_d8G"
      }
    },
    {
      "cell_type": "code",
      "execution_count": null,
      "metadata": {
        "colab": {
          "base_uri": "https://localhost:8080/"
        },
        "id": "-r5H82q94b_j",
        "outputId": "7e93aefa-720b-4137-b6ef-e44168782463"
      },
      "outputs": [
        {
          "output_type": "stream",
          "name": "stdout",
          "text": [
            "Images processed and saved successfully.\n"
          ]
        }
      ],
      "source": [
        "# Folder paths for front and background images\n",
        "front_folder = '/content/drive/MyDrive/FYP/comm_aircraft'\n",
        "background_folder = '/content/drive/MyDrive/FYP/sky'\n",
        "output_folder = '/content/drive/MyDrive/FYP/comm_in_sky'\n",
        "\n",
        "# Create the output folder if it doesn't exist\n",
        "os.makedirs(output_folder, exist_ok=True)\n",
        "output_folder_images = os.path.join(output_folder, 'images')\n",
        "output_folder_labels = os.path.join(output_folder, 'newLabels')\n",
        "os.makedirs(output_folder_images, exist_ok=True)\n",
        "os.makedirs(output_folder_labels, exist_ok=True)\n",
        "\n",
        "# Process each background image\n",
        "for bg_filename in os.listdir(background_folder):\n",
        "    if not bg_filename.endswith('.jpg') and not bg_filename.endswith('.png') and not bg_filename.endswith('.PNG') and not bg_filename.endswith('.jpeg'):\n",
        "        continue\n",
        "\n",
        "    # Open background image\n",
        "    bg_path = os.path.join(background_folder, bg_filename)\n",
        "    background = Image.open(bg_path).convert(\"RGBA\")\n",
        "    background = background.resize((1920,1080))\n",
        "\n",
        "    # Process each front image\n",
        "    for front_filename in os.listdir(front_folder):\n",
        "        if not front_filename.endswith('.jpg') and not front_filename.endswith('.png') and not front_filename.endswith('.PNG') and not front_filename.endswith('.jpeg') and not front_filename.endswith('.webp'):\n",
        "            continue\n",
        "\n",
        "        # Open front image\n",
        "        front_path = os.path.join(front_folder, front_filename)\n",
        "        frontImage = cv2.imread(front_path)\n",
        "\n",
        "        # Resize the front image to match the background size\n",
        "        front_width, front_height, _ = frontImage.shape\n",
        "        if front_width < 200:\n",
        "          front_width *= 2\n",
        "        elif front_width < 400:\n",
        "          front_width = front_width\n",
        "        elif front_width < 750:\n",
        "          front_width //= 2\n",
        "        elif front_width < 1000:\n",
        "          front_width //= 3\n",
        "        else:\n",
        "          front_width //= 4\n",
        "        resized_frontImage = imutils.resize(frontImage, width=front_width)\n",
        "\n",
        "        original_frontImage = resized_frontImage.copy()\n",
        "        flipped_frontImage = cv2.flip(original_frontImage, 1)\n",
        "\n",
        "        # Rotated\n",
        "        angle = random.uniform(0, 10)\n",
        "        rotated_frontImage = imutils.rotate_bound(original_frontImage, angle)\n",
        "\n",
        "        # Flipped and Rotated\n",
        "        flipped_rotated_frontImage = cv2.flip(original_frontImage, 1)\n",
        "\n",
        "        # Save the resulting images\n",
        "        images = {\n",
        "            \"original\": original_frontImage,\n",
        "            \"flipped\": flipped_frontImage,\n",
        "            \"rotated\": rotated_frontImage,\n",
        "            \"flipped_rotated\": flipped_rotated_frontImage\n",
        "        }\n",
        "\n",
        "        for name, img in images.items():\n",
        "          # Convert image to RGBA\n",
        "          Gaussian = cv2.GaussianBlur(img, (3,3), 0)\n",
        "          filename = f'blurred_front_{name}.png'\n",
        "          blurred_img_path = os.path.join('/content/drive/MyDrive/FYP/random', filename)\n",
        "          cv2.imwrite(blurred_img_path, Gaussian)\n",
        "          frontImage = Image.open(blurred_img_path)\n",
        "          frontImage = remove(frontImage)\n",
        "          frontImage = frontImage.convert(\"RGBA\")\n",
        "\n",
        "          # Calculate width and height to be at the center\n",
        "          orig_width = (background.width - frontImage.width)\n",
        "          orig_height = (background.height - frontImage.height) // 2\n",
        "          width = random.randint(orig_width // 4, 3 * orig_width // 4)\n",
        "          height = random.randint(orig_height // 4, 3 * orig_height // 4)\n",
        "\n",
        "          # Paste the front image onto the background\n",
        "          background_copy = background.copy()  # Create a copy to prevent modifying the original\n",
        "          background_copy.paste(frontImage, (width, height), frontImage)\n",
        "          # width and height gives the top left corner\n",
        "          center_width = width + frontImage.width/2\n",
        "          center_height = height + frontImage.height/2\n",
        "          bbox = [center_width / 1920, center_height / 1080, frontImage.width / 1920, frontImage.height / 1080]\n",
        "\n",
        "          # Save the resulting image\n",
        "          output_filename = f'result_{bg_filename.split(\".\")[0]}_{front_filename.split(\".\")[0]}_{name}.png'\n",
        "          output_folder_images = f'{output_folder}/images'\n",
        "          output_folder_labels = f'{output_folder}/newLabels'\n",
        "          output_path = os.path.join(output_folder_images, output_filename)\n",
        "          if not os.path.exists(output_folder_images):\n",
        "            os.makedirs(output_folder_images)\n",
        "          background_copy.save(output_path, format=\"png\")\n",
        "\n",
        "          # Write the bounding box to a text file\n",
        "          label_path = os.path.join(output_folder_labels, output_filename)\n",
        "          label_path = os.path.splitext(label_path)[0] + '.txt'\n",
        "          with open(label_path, 'w') as f:\n",
        "              f.write('0 ')\n",
        "              f.write(' '.join(map(str, bbox)))\n",
        "\n",
        "\n",
        "print(\"Images processed and saved successfully.\")"
      ]
    },
    {
      "cell_type": "code",
      "execution_count": null,
      "metadata": {
        "id": "YoNJvivwc4St"
      },
      "outputs": [],
      "source": []
    }
  ],
  "metadata": {
    "colab": {
      "provenance": []
    },
    "kernelspec": {
      "display_name": "Python 3",
      "name": "python3"
    },
    "language_info": {
      "name": "python"
    }
  },
  "nbformat": 4,
  "nbformat_minor": 0
}